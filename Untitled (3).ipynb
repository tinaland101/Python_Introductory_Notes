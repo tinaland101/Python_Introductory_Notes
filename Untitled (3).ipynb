{
 "cells": [
  {
   "cell_type": "markdown",
   "id": "90e2c355-e62d-487b-bf66-c6a63e352fd7",
   "metadata": {},
   "source": [
    "1. SUM OF TWO NUMBERS\n",
    "1. Two Sum\n",
    "note:\n",
    "know when to use the correct operators to compare the right things\n",
    "key things here\n",
    "1. i and j are the index that are being sliced to create a comparison of list to interate through \n",
    "2. num[i]and num[j] would be accessing the specific values in the index of these two list so dont return the vaules unless that is the objective\n",
    "3. .append() needs to be added to the empty list variable to store indexes or vaules if needed\n",
    "4. understand the difference between tuples being passed into a list and the output remaining as such.\n",
    "5. i is the current index in an array and [i] is a specific index in the array\n",
    "6. be mindful of is vs is not and not in vs in"
   ]
  },
  {
   "cell_type": "code",
   "execution_count": 5,
   "id": "8bc3f6ab-f65a-40d4-b4e8-dfbdda71abdb",
   "metadata": {},
   "outputs": [
    {
     "name": "stdout",
     "output_type": "stream",
     "text": [
      "[1, 3]\n"
     ]
    }
   ],
   "source": [
    "# return indices that are not going to be the target sum\n",
    "class Solution(object):\n",
    "    def twoSum(self, nums, target):\n",
    "        for i in range(len(nums)):\n",
    "            for j in range(i + 1, len(nums)):\n",
    "                if nums[i] + nums[j] == target:\n",
    "                    return [i,j]\n",
    "              \n",
    "solution = Solution()\n",
    "nums = [1,2,20,3,9]\n",
    "target = 5\n",
    "result = solution.twoSum(nums, target)\n",
    "print(result)"
   ]
  },
  {
   "cell_type": "code",
   "execution_count": null,
   "id": "d2afdb6f",
   "metadata": {},
   "outputs": [],
   "source": [
    "sample = [ 1,2,3,4,]\n"
   ]
  },
  {
   "cell_type": "code",
   "execution_count": 1,
   "id": "7d549563",
   "metadata": {},
   "outputs": [
    {
     "name": "stdout",
     "output_type": "stream",
     "text": [
      "[4]\n"
     ]
    }
   ],
   "source": [
    "class Solution(object):\n",
    "    def twoSum(self, nums, target):\n",
    "        for i in range(len(nums)):\n",
    "            for j in range(i + 1, len(nums)):\n",
    "                if nums[i] + nums[j] == target:\n",
    "                    return [i + j]\n",
    "                \n",
    "\n",
    "\n",
    "solution = Solution() \n",
    "nums = [1, 2, 20, 3, 9]\n",
    "target = 5\n",
    "result = solution.twoSum(nums, target)\n",
    "print(result)"
   ]
  },
  {
   "cell_type": "code",
   "execution_count": 8,
   "id": "ac5a8b60-efb9-44a4-9494-2d4e489b11b9",
   "metadata": {
    "tags": []
   },
   "outputs": [
    {
     "name": "stdout",
     "output_type": "stream",
     "text": [
      "[0, 1]\n"
     ]
    }
   ],
   "source": [
    "# Leet code approved code for passing the code\n",
    "class Solution(object): \n",
    "    def twoSum(self, nums , target):# 4 spaces after class\n",
    "        for i in range(len(nums)): # 4 spaces after def\n",
    "            for j in range(i + 1 , len(nums)): # 4 spaces continually build\n",
    "                if nums[i] + nums[j] == target: # 4 spaces in the code block conditions\n",
    "                    return [i,j]\n",
    "solution = Solution() # all below such as print etc return to 0 spaces\n",
    "nums =[2,3,9,7]\n",
    "target = 5\n",
    "result = solution.twoSum(nums, target)\n",
    "print(result)"
   ]
  },
  {
   "cell_type": "code",
   "execution_count": 55,
   "id": "f4af2819-915e-4a7d-8e6a-4a14ecca4ef2",
   "metadata": {
    "tags": []
   },
   "outputs": [
    {
     "name": "stdout",
     "output_type": "stream",
     "text": [
      "[(1, 2)]\n",
      "1 2\n"
     ]
    }
   ],
   "source": [
    "# This will return the indices of the target using inidces\n",
    "nums = [9, 3,2,5,1] # list of numbers\n",
    "target = 5 # target\n",
    "indices = [] # empty list to store indices\n",
    "for i in range(len(nums)): # iterates over the first list of indices\n",
    "    for j in range( i + 1, len(nums) ): # this iterates over the second list of index range(i + 1 , len(nums)) establishes an extra index\n",
    "         if nums[i] + nums[j] == target: # you cant use i + j because those are indexes and they wont equal the target nums[i] and nums[j] will access the vaules to perfom the operation\n",
    "            indices.append((i,j)) # call the append.((i,j)) function because it will store the indexes whos values when being acces by [] will be returned to the empty list indices\n",
    "            print(indices) # print the empty list\n",
    "            print(i, j)    # retun is oinly used in fucntions this methods to practice return values that are repetitve"
   ]
  },
  {
   "cell_type": "code",
   "execution_count": null,
   "id": "36c5f4be-48fd-4d4b-a69f-71fbeeed3f45",
   "metadata": {},
   "outputs": [],
   "source": [
    "# what method other method with strings\n",
    "Use Case\tWhich Loop to Use\n",
    "You only need the values\tfor num in nums\n",
    "You need the index or modify items\tfor i in range()\n",
    "You want both index and value\tfor i, num in enumerate(nums) ✅\n",
    "\n",
    "----\n",
    "Syntax\tGives You\tModifiable?\n",
    "for num in nums\tValues\tNo index\n",
    "for i in range(len(nums))\tIndex & value\tYes\n",
    "for i, num in enumerate()\tBoth at once\tBest of both"
   ]
  },
  {
   "cell_type": "markdown",
   "id": "5c24bd0f-0f10-40e9-a1d1-976da1cc6f0a",
   "metadata": {},
   "source": [
    "2. MISSING NUMBER\n",
    "\n",
    "1. len() function is used to go over the total number in line and max will find the highest value in an array, not the best function when thinking of iterating through the list\n",
    "2. in the this case + 1 is add to provide an extra value to range through to include the proper step [0,n] \n",
    "3. ranges have a start, stop and step \n",
    "4. to return specific vaule it seems that start stop step is imperative\n",
    "5. len() looking at all values present and a range will only start at the indicated start and stop at the non-included values"
   ]
  },
  {
   "cell_type": "code",
   "execution_count": 99,
   "id": "d784fe66-238d-4fed-9d66-490963251385",
   "metadata": {
    "tags": []
   },
   "outputs": [
    {
     "name": "stdout",
     "output_type": "stream",
     "text": [
      "[5]\n"
     ]
    }
   ],
   "source": [
    "nums = [0, 10, 15]\n",
    "missing_values = []\n",
    "for i in range(0 ,max(nums) + 1, 5):\n",
    "    if i not in nums:\n",
    "        missing_values.append(i)\n",
    "        print(missing_values)"
   ]
  },
  {
   "cell_type": "code",
   "execution_count": 61,
   "id": "c72d81fd-4688-4c42-8a41-b564c86b75ca",
   "metadata": {
    "tags": []
   },
   "outputs": [
    {
     "name": "stdout",
     "output_type": "stream",
     "text": [
      "2\n"
     ]
    }
   ],
   "source": [
    "class Solution(object): #leetcode approved  # compare the two and understand the differnce, practice diffeent \n",
    "    def missingNumber(self, nums):\n",
    "        \n",
    "        for num in range(0 , len(nums) + 1):\n",
    "            if num not in nums: \n",
    "                 \n",
    "                return num\n",
    "        \n",
    "solution = Solution()\n",
    "nums = [3, 0, 1]        \n",
    "result = solution.missingNumber(nums)\n",
    "print(result)\n",
    "        "
   ]
  },
  {
   "cell_type": "code",
   "execution_count": 76,
   "id": "39883712-1c0a-4862-8fb3-832999e899ab",
   "metadata": {
    "tags": []
   },
   "outputs": [
    {
     "name": "stdout",
     "output_type": "stream",
     "text": [
      "['D']\n"
     ]
    }
   ],
   "source": [
    "nums = ['B', 'A' , 'C', 'E']\n",
    "nums.sort() # sorts the list\n",
    "missing_values = [] # store the list\n",
    "for i in range(ord(nums[0]), ord(nums[-1])): # loops through the characters from first to last\n",
    "    if chr(i) not in nums: # if character is not in nums return it\n",
    "        missing_values.append(chr(i)) \n",
    "               \n",
    "print(missing_values)"
   ]
  },
  {
   "cell_type": "code",
   "execution_count": 97,
   "id": "52d74951-6ab7-4be2-9d40-7b98260d73e6",
   "metadata": {
    "tags": []
   },
   "outputs": [
    {
     "name": "stdout",
     "output_type": "stream",
     "text": [
      "[6]\n"
     ]
    }
   ],
   "source": [
    "nums = [3, 4, 5, 7,] # for \n",
    "\n",
    "missing_num = []\n",
    "for i in range(3, max(nums) + 1):\n",
    "    if i  not in nums:\n",
    "        missing_num.append(i)\n",
    "print(missing_num)        "
   ]
  },
  {
   "cell_type": "code",
   "execution_count": 116,
   "id": "01415c5a-9a46-4737-aca6-cb1073487507",
   "metadata": {
    "tags": []
   },
   "outputs": [
    {
     "name": "stdout",
     "output_type": "stream",
     "text": [
      "[0, 4]\n"
     ]
    }
   ],
   "source": [
    "# return multiple missing values\n",
    "nums = [ 0,1,2,3,5]\n",
    "missing_num = []\n",
    "for i in range( 0, len(nums) + 1, 1):\n",
    "    if i not in nums:\n",
    "        missing_num.append(i)\n",
    "print(missing_num)"
   ]
  },
  {
   "cell_type": "code",
   "execution_count": 3,
   "id": "0f6216cc-ebf1-4b67-bf14-0e549af81de2",
   "metadata": {},
   "outputs": [
    {
     "name": "stdout",
     "output_type": "stream",
     "text": [
      "true\n"
     ]
    }
   ],
   "source": [
    "# This will return the the print statement true boolean that the value nums exist and equals the target\n",
    "\n",
    "nums = [9, 3,2, 5,1]\n",
    "target = 5\n",
    "\n",
    "\n",
    "for num in nums: # loops over the elements of nums \n",
    "     if num == target: # identity check for target value in nums\n",
    "        print('true')"
   ]
  },
  {
   "cell_type": "code",
   "execution_count": 1,
   "id": "259c996a-7d40-4615-bb26-02be528aadac",
   "metadata": {},
   "outputs": [
    {
     "name": "stdout",
     "output_type": "stream",
     "text": [
      "[10, 4, 3, 2]\n"
     ]
    }
   ],
   "source": [
    "# this will return the \n",
    "nums = [9,3, 2, 5,1]\n",
    "target = 5\n",
    "new_list =[]\n",
    "for i in range(len(nums)):# checking the index in a range of a list\n",
    "    if nums[i] == target: # what value at the index equals target\n",
    "        continue \n",
    "    else:\n",
    "        nums[i] += 1\n",
    "        new_list.append(nums[i])\n",
    "print(new_list)"
   ]
  },
  {
   "cell_type": "code",
   "execution_count": 1,
   "id": "a42d0a84-8390-4471-9804-b68093b6f7f8",
   "metadata": {
    "tags": []
   },
   "outputs": [
    {
     "name": "stdout",
     "output_type": "stream",
     "text": [
      "120\n"
     ]
    }
   ],
   "source": [
    "# simple sum by iterating but it can be an assigned variable name with the function sum() passing nums\n",
    "nums = [1, 2, 0 ,35,6,53,23,]\n",
    "count = 0\n",
    "for num in nums:\n",
    "    count += num\n",
    "        \n",
    "print(count)"
   ]
  },
  {
   "cell_type": "markdown",
   "id": "1a7fbc3d-6ad8-460d-903e-de3114e807aa",
   "metadata": {},
   "source": [
    "3. DUPLICATES "
   ]
  },
  {
   "cell_type": "code",
   "execution_count": 2,
   "id": "779cb9db-99f1-4c29-bf22-f364d29036ae",
   "metadata": {
    "tags": []
   },
   "outputs": [
    {
     "name": "stdout",
     "output_type": "stream",
     "text": [
      "True\n"
     ]
    }
   ],
   "source": [
    "words = [ 'tree', 'house', 'car', 'car']\n",
    "def dup_nums(words):\n",
    "    if len(set(words)) != len(words):  # comparison here\n",
    "        return True\n",
    "    else: \n",
    "        return False \n",
    "            \n",
    "print(dup_nums(words))           "
   ]
  },
  {
   "cell_type": "code",
   "execution_count": 7,
   "id": "07770bae-6e34-4577-ae31-58cd3878ec95",
   "metadata": {
    "tags": []
   },
   "outputs": [
    {
     "name": "stdout",
     "output_type": "stream",
     "text": [
      "dog\n"
     ]
    }
   ],
   "source": [
    "words = [ 'dog', 'dog', 'cat', 'hamster']\n",
    "for i in range(len(words)):\n",
    "    for j in range(i + 1, len(words)):\n",
    "        if words[i] == words[j]:\n",
    "            print(words[i])\n",
    "    \n"
   ]
  },
  {
   "cell_type": "code",
   "execution_count": 18,
   "id": "1cdec7a6-8e53-4284-b2ab-26340110d13d",
   "metadata": {
    "tags": []
   },
   "outputs": [
    {
     "name": "stdout",
     "output_type": "stream",
     "text": [
      "Pears\n"
     ]
    }
   ],
   "source": [
    "def find_duplicate(words):\n",
    "    for i in range(len(words)):\n",
    "        for j in range(i + 1, len(words)):\n",
    "            if words[i] == words[j]:\n",
    "                return words[i]\n",
    "    return None  \n",
    "\n",
    "words = ['Apples' , 'Oranges', 'Pears', 'Pears']\n",
    "print(find_duplicate(words))"
   ]
  },
  {
   "cell_type": "code",
   "execution_count": 22,
   "id": "1e44b0e2-e417-408c-bf37-a08a70c78e82",
   "metadata": {
    "tags": []
   },
   "outputs": [
    {
     "name": "stdout",
     "output_type": "stream",
     "text": [
      "None\n"
     ]
    }
   ],
   "source": [
    "nums = [1, 2 , 3, 4,]\n",
    "def duplicates_num(nums):\n",
    "    for i in range(len(nums)):\n",
    "        for j in range( i + 1, len(nums)):\n",
    "            if nums[i] == nums[j]:\n",
    "                return nums[i]\n",
    "    return None\n",
    "nums = [1, 2 , 3, 4,]\n",
    "print(duplicates_num(nums))"
   ]
  },
  {
   "cell_type": "code",
   "execution_count": null,
   "id": "bcb93472-24e6-4ac6-b150-a12227dcf1b7",
   "metadata": {},
   "outputs": [],
   "source": [
    "words = [ 'Anna', 'Brittany', 'Tasha', 'Tasha', 'Sarah']\n",
    "\n",
    "\n",
    "unique = []\n",
    "duplicates = []\n",
    "seen = set()\n",
    "for word in words: \n",
    "    if word in seen and word not in duplicates:\n",
    "        duplicates.append(word)\n",
    "    elif word not in seen:\n",
    "        unique.append(word)\n",
    "        seen.add(word)\n",
    "print(\"Duplicates:\", duplicates)  \n",
    "print(\"Unique:\", unique)"
   ]
  },
  {
   "cell_type": "markdown",
   "id": "d44557bd-c213-49ac-8b1f-17e280110f07",
   "metadata": {},
   "source": [
    "4. All Missing Numbers\n",
    "you can add a set for the list anf create an emptpy list to capture the missinf number"
   ]
  },
  {
   "cell_type": "code",
   "execution_count": 33,
   "id": "e37108cd-3b80-4a1f-a58d-d63bf26c0e7b",
   "metadata": {
    "tags": []
   },
   "outputs": [
    {
     "name": "stdout",
     "output_type": "stream",
     "text": [
      "5\n"
     ]
    }
   ],
   "source": [
    "nums = [ 1,1,2,3,4,6,7,8]\n",
    "for i in range(1,len(nums), 1):\n",
    "    if i not in nums:\n",
    "        print(i)"
   ]
  },
  {
   "cell_type": "markdown",
   "id": "b16853f8-225f-44c6-a437-fe4ad549286d",
   "metadata": {},
   "source": [
    "5. How many numbers are smaller than the current number"
   ]
  },
  {
   "cell_type": "code",
   "execution_count": null,
   "id": "b9a2daf3-fefc-4b24-a417-62bd9c198655",
   "metadata": {},
   "outputs": [],
   "source": [
    "def smaller_Num(nums):\n",
    "result= []\n",
    "\n",
    "for i in nums:\n",
    "    count = sum(j < i for j in nums)\n",
    "    result.append(count)\n",
    "return result"
   ]
  },
  {
   "cell_type": "code",
   "execution_count": null,
   "id": "9e5021c4-1c41-455d-8fbe-1fd8157f0f6e",
   "metadata": {},
   "outputs": [],
   "source": [
    "nums = [5, 3, 8, 2, 7]\n",
    "total = 0\n",
    "\n",
    "for i in range(1, len(nums)):\n",
    "    if nums[i] < nums[i - 1]:\n",
    "        total += nums[i]\n",
    "\n",
    "print(total)\n"
   ]
  },
  {
   "cell_type": "markdown",
   "id": "7d0bb083-d0bb-4529-819e-5ed2bd7d33b2",
   "metadata": {},
   "source": [
    "Goal\tUse\n",
    "Compare to adjacent/previous\tSingle loop\n",
    "Count or sum simple conditions\tSingle loop\n",
    "Compare each element to others\tNested loop\n",
    "Generate combinations/pairs\tNested loop\n",
    "\n",
    "\n"
   ]
  },
  {
   "cell_type": "code",
   "execution_count": null,
   "id": "c98161a7-e053-42b4-a3ad-6cab9bba4a01",
   "metadata": {},
   "outputs": [],
   "source": [
    "Use a Single Loop When:\n",
    "You're dealing with each item independently or need to compare it to adjacent elements (like the previous or next one).\n",
    "\n",
    "1.Compare each item to the previous one:\n",
    "    for i in range(1, len(nums)):\n",
    "    if nums[i] < nums[i - 1]:\n",
    "        ...\n",
    "2.Sum or process all items once:\n",
    "    total = 0\n",
    "for num in nums:\n",
    "    total += num\n",
    "3. Filter values:\n",
    "    evens = [x for x in nums if x % 2 == 0]\n",
    "\n",
    "    Use a Nested Loop When:\n",
    "You need to compare each element to every other element (or a subset of them). This is often used for:\n",
    "\n",
    "Pairwise comparisons\n",
    "\n",
    "Finding duplicates\n",
    "\n",
    "Matching elements from two lists\n",
    "\n",
    "1.Compare each item with every other:\n",
    "    for i in range(len(nums)):\n",
    "    for j in range(len(nums)):\n",
    "        if nums[i] < nums[j]:\n",
    "            ...\n",
    "2.Find all pairs that meet a condition:\n",
    "    \n",
    "    for i in range(len(nums)):\n",
    "    for j in range(i + 1, len(nums)):\n",
    "        if nums[i] + nums[j] == target:\n",
    "            print(nums[i], nums[j])\n",
    "3.\n",
    "Check for duplicates (brute force):\n",
    "    \n",
    "    for i in range(len(nums)):\n",
    "    for j in range(i + 1, len(nums)):\n",
    "        if nums[i] == nums[j]:\n",
    "            print(\"Duplicate:\", nums[i])\n"
   ]
  },
  {
   "cell_type": "code",
   "execution_count": null,
   "id": "7af3cb9e-5176-4ce4-ba22-188fbba947be",
   "metadata": {},
   "outputs": [],
   "source": [
    "nums = [5, 3, 8, 2]\n",
    "results = []\n",
    "\n",
    "for i in range(len(nums)):\n",
    "    count = 0\n",
    "    for j in range(len(nums)):\n",
    "        if nums[i] < nums[j]:\n",
    "            count += 1\n",
    "    results.append(count)\n",
    "\n",
    "print(results)  # Output: [1, 2, 0, 3]\n"
   ]
  },
  {
   "cell_type": "markdown",
   "id": "d72f8c87-f384-4e10-bdad-bda1788f3d98",
   "metadata": {},
   "source": [
    "6. Minimum time eqaul all points\n",
    "purpose: calculate the time to travel from one point vertically or horizontally\n",
    "\n",
    "Line 1\n",
    "def mintime(points): 1. Defines the function that takes the list of points\n",
    "\n",
    "Line 2\n",
    "time = 0 2.We start with 0 time. We’ll add to this as we move between each pair of points.\n",
    "\n",
    "line 3\n",
    "for i in range(1, len(points)): We loop through the list of points starting at index 1, so we can compare each point with the one just before it.\n",
    "\n",
    "len(points) is 3\n",
    "\n",
    "So i will be: 1, 2\n",
    "\n",
    "line 4\n",
    "x1, y1 = points[i - 1] We get the previous point (just before the current one), and store its x and y as x1 and y1.\n",
    "\n",
    "line 5\n",
    "\n",
    "x2, y2 = points[i]\n",
    "We get the current point, and store its x and y as x2 and y2.\n",
    "\n",
    "line 6\n",
    "time += max(abs(x2 - x1), abs(y2 - y1))\n",
    "\n",
    "We calculate the minimum time it takes to move from the previous point to the current point, using diagonal moves.\n",
    "\n",
    "abs(x2 - x1) = horizontal distance\n",
    "\n",
    "abs(y2 - y1) = vertical distance\n",
    "\n",
    "max(...) = how many steps we actually need to take (because diagonal moves cover both directions at once)\n",
    "\n",
    "Then we add that to total time.\n",
    "\n",
    "line 7\n",
    "return time\n",
    "\n",
    "\n",
    "\n",
    "Code Line\tWhy It’s Used\n",
    "def mintime(points):\tTo create a function that accepts the input\n",
    "time = 0\tTo keep track of the total time\n",
    "for i in range(1, len(points))\tTo compare each point with the one before it\n",
    "x1, y1 = points[i - 1]\tGet coordinates of the previous point\n",
    "x2, y2 = points[i]\tGet coordinates of the current point\n",
    "max(abs(x2 - x1), abs(y2 - y1))\tUse diagonal movement rules to get the minimum time\n",
    "time += ...\tAdd each segment’s time to the total\n",
    "return time\tGive back the total time after all calculations\n",
    "\n"
   ]
  },
  {
   "cell_type": "code",
   "execution_count": null,
   "id": "3a91e407-cbcf-43a4-b5f3-09749fddfc1a",
   "metadata": {},
   "outputs": [],
   "source": [
    "def mintime(points)\n",
    "\n",
    "time = 0\n",
    "for i in range(1 , len(points)):\n",
    "    x1, y1 = point[i-1]\n",
    "    x2, y2 = points[i]\n",
    "    time += max(abs(x2-x1), abs(y2- y1))\n",
    "return time   "
   ]
  },
  {
   "cell_type": "markdown",
   "id": "3a288c6d-747b-4576-9576-9ad5076c32f8",
   "metadata": {},
   "source": [
    "7. Spiral Matrix\n",
    "tep 1: result = []\n",
    "What it does: Creates an empty list to store the spiral-ordered numbers.\n",
    "\n",
    "Why: We need a place to collect all the values as we spiral through the matrix.\n",
    "\n",
    "Step 2: while matrix:\n",
    "What it does: Continues looping as long as the matrix still has rows.\n",
    "\n",
    "Why: Once we remove all rows (in all directions), the matrix will become empty, and we stop.\n",
    "\n",
    "Step 3: result += matrix.pop(0)\n",
    "What it does: Removes the top row from the matrix and adds it to result.\n",
    "\n",
    "Why: The spiral always starts by going left to right across the top.\n",
    "\n",
    "Example:\n",
    "\n",
    "python\n",
    "Copy\n",
    "Edit\n",
    "matrix = [[1, 2, 3], [4, 5, 6], [7, 8, 9]]\n",
    "→ matrix.pop(0) gives [1, 2, 3]\n",
    "→ result = [1, 2, 3]\n",
    "Step 4: if matrix and matrix[0]:\n",
    "What it does: Checks if the matrix still has rows and if the first row still has columns.\n",
    "\n",
    "Why: We want to be safe before accessing elements, especially after popping rows.\n",
    "\n",
    "Step 5: for row in matrix: result.append(row.pop())\n",
    "What it does: Goes through each row and removes the last element (the rightmost column).\n",
    "\n",
    "Why: After the top row, we go top to bottom on the right side.\n",
    "\n",
    "Example:\n",
    "\n",
    "python\n",
    "Copy\n",
    "Edit\n",
    "matrix = [[4, 5], [7, 8]]\n",
    "→ takes 5 from first row, 8 from second\n",
    "→ result = [1, 2, 3, 6, 9]"
   ]
  },
  {
   "cell_type": "code",
   "execution_count": null,
   "id": "11857cfe-00f5-4f24-bc3c-05bc2f8376dd",
   "metadata": {},
   "outputs": [],
   "source": [
    "def spiralordermatrix():\n",
    "    return =[]  \n",
    "    while matrix: #continues as long as rows are left in the matrix\n",
    "        result += matrix.pop(0) # returns and removes the first row\n",
    "        if matrix and matrix[0]: # checks if matrix stills has rows and that the rows arent empty\n",
    "            for row in matrix:\n",
    "                result.append(row.pop())\n",
    "        if matrix:\n",
    "            result += matrix.pop()[::-1] # removes the last row and reverses it\n",
    "        if matrix and matrix[0]: # checks the data again to rpocess\n",
    "            for row in matrix[::-1]:# reverses the remaining row\n",
    "                result.append(row.pop(0)) # gets and remvoes the first element\n",
    "    return result"
   ]
  },
  {
   "cell_type": "markdown",
   "id": "a49af0e5-2cdd-4331-8c21-51d71383915a",
   "metadata": {},
   "source": [
    "8. Number of islands- recursvie and iterative algorithm\n",
    "\n",
    "\n",
    "Line 1\n",
    "def numIslands(grid): \n",
    "\n",
    "This defines a function called num Islands that takes in a 2D grid of '1's (land) and '0's (water).\n",
    "Our goal is to count how many separate islands there are.\n",
    "\n",
    "Line 2\n",
    "\n",
    "    if not grid:\n",
    "        return 0\n",
    "Checks if the grid is empty. If there's no map, there are no islands.\n",
    "\n",
    "Why: Prevents errors on empty input.\n",
    "\n",
    "Line 3-4\n",
    "    rows, cols = len(grid), len(grid[0])\n",
    "\n",
    "Stores the number of rows and columns in the grid.\n",
    "\n",
    "Why: We'll use these to stay inside the grid boundaries later.\n",
    "\n",
    "Line 5\n",
    "    count = 0\n",
    "This will store the number of islands we find.\n",
    "\n",
    "Each time we find a new piece of land that hasn’t been visited, we’ll increase this.\n",
    "\n",
    "Line 6\n",
    "    def dfs(r, c):\n",
    "Defines a recursive helper function that performs Depth-First Search.\n",
    "\n",
    "Why: To visit and \"sink\" all connected land cells once we find the start of an island.\n",
    "\n",
    "Line 7\n",
    "        if r < 0 or c < 0 or r >= rows or c >= cols or grid[r][c] != '1':\n",
    "            return\n",
    "This is a boundary and base case:\n",
    "\n",
    "r < 0 or c < 0 → out of top/left bounds\n",
    "\n",
    "r >= rows or c >= cols → out of bottom/right bounds\n",
    "\n",
    "grid[r][c] != '1' → either water ('0') or already visited\n",
    "\n",
    "Why: To stop the recursion when we go out of bounds or hit water.\n",
    "Line 8\n",
    "        grid[r][c] = '0'\n",
    "Marks the current land cell as visited by changing '1' to '0'.\n",
    "\n",
    "Why: So we don’t count or visit this piece of land again.\n",
    "\n",
    " Line 9–12:\n",
    "python\n",
    "Copy\n",
    "Edit\n",
    "        dfs(r + 1, c)\n",
    "        dfs(r - 1, c)\n",
    "        dfs(r, c + 1)\n",
    "        dfs(r, c - 1)\n",
    "        \n",
    "These 4 lines explore all 4 directions: down, up, right, left.\n",
    "\n",
    "Why: To find and \"sink\" all land connected to this one — the entire island.\n",
    "\n",
    "\n",
    "Line 13–14:\n",
    "python\n",
    "Copy\n",
    "Edit\n",
    "    for r in range(rows):\n",
    "        for c in range(cols):\n",
    "Loops through every cell in the grid (row by row, column by column).\n",
    "\n",
    "Why: To find unvisited land ('1') and start DFS from there.\n",
    "\n",
    " Line 15:\n",
    "python\n",
    "Copy\n",
    "Edit\n",
    "            if grid[r][c] == '1':\n",
    "If the current cell is '1', it's a new island we haven’t visited yet.\n",
    "\n",
    " Line 16:\n",
    "python\n",
    "Copy\n",
    "Edit\n",
    "                count += 1\n",
    "Found a new island → increment the island count.\n",
    "\n",
    " Line 17:\n",
    "python\n",
    "Copy\n",
    "Edit\n",
    "                dfs(r, c)\n",
    "Start DFS from this cell to sink the entire island.\n",
    "\n",
    "After this runs, all land connected to this cell will be marked as '0'.\n",
    "\n",
    "Line 18:\n",
    "python\n",
    "Copy\n",
    "Edit\n",
    "    return count\n",
    "After scanning the whole grid and \"sinking\" each island, return the total number found.\n",
    "\n"
   ]
  },
  {
   "cell_type": "code",
   "execution_count": null,
   "id": "9cb04eb7-cb44-426d-bb3e-7d73aadf49bc",
   "metadata": {},
   "outputs": [],
   "source": [
    "def numIslands(grid):\n",
    "    if not grid:\n",
    "        return 0\n",
    "\n",
    "    rows, cols = len(grid), len(grid[0])\n",
    "    count = 0\n",
    "\n",
    "    def dfs(r, c):\n",
    "        if r < 0 or c < 0 or r >= rows or c >= cols or grid[r][c] != '1':\n",
    "            return\n",
    "        grid[r][c] = '0'\n",
    "        dfs(r + 1, c)\n",
    "        dfs(r - 1, c)\n",
    "        dfs(r, c + 1)\n",
    "        dfs(r, c - 1)\n",
    "\n",
    "    for r in range(rows):\n",
    "        for c in range(cols):\n",
    "            if grid[r][c] == '1':\n",
    "                count += 1\n",
    "                dfs(r, c)\n",
    "\n",
    "    return count\n",
    "\n"
   ]
  },
  {
   "cell_type": "code",
   "execution_count": null,
   "id": "9fc21e71-d892-41f7-ae47-42b4b7a383cd",
   "metadata": {},
   "outputs": [],
   "source": [
    "9. Best time to sell\n",
    "\n",
    "🧩 Problem Summary (LeetCode 121)\n",
    "Given an array prices where prices[i] is the price of a stock on day i, you want to buy one day and sell on a later day to maximize your profit.\n",
    "\n",
    "🔹 Return the maximum profit you can achieve. If you can't make a profit, return 0.\n",
    "\n",
    "\n",
    "\n",
    "2 methods"
   ]
  },
  {
   "cell_type": "code",
   "execution_count": null,
   "id": "0ba0a436-ae32-41db-8c8b-e4696a14cde9",
   "metadata": {},
   "outputs": [],
   "source": [
    "def maxProfit(prices):\n",
    "    min_price = float('inf')  # Start with the highest possible\n",
    "    max_profit = 0\n",
    "\n",
    "    for price in prices:\n",
    "        if price < min_price:\n",
    "            min_price = price  # Update the lowest price seen\n",
    "        elif price - min_price > max_profit:\n",
    "            max_profit = price - min_price  # Update max profit if better\n",
    "\n",
    "    return max_profit"
   ]
  },
  {
   "cell_type": "markdown",
   "id": "cbd38933-92b4-4b20-9318-46b55db14f84",
   "metadata": {},
   "source": [
    "Step 1: min_price = float('inf')\n",
    "You start with the highest possible value (infinity) as your minimum.\n",
    "\n",
    "Why? So that any real price in the array will be lower and replace it.\n",
    "\n",
    "Step 2: max_profit = 0\n",
    "This keeps track of the best profit seen so far.\n",
    "\n",
    "You start with 0 profit — in case no profit is possible, you'll return 0.\n",
    "\n",
    "Step 3: for price in prices:\n",
    "Loop through each price (each day).\n",
    "\n",
    "Step 4: if price < min_price:\n",
    "If today’s price is lower than your stored min_price, update it.\n",
    "\n",
    "Why? You want to buy at the lowest possible price before selling.\n",
    "\n",
    "Step 5: elif price - min_price > max_profit:\n",
    "If today’s price minus the min_price is a bigger profit than before, update max_profit.\n",
    "\n",
    "Why? This checks if selling today after buying at the lowest price gives a better deal.\n",
    "\n",
    "Step 6: return max_profit\n",
    "After checking all days, return the highest profit possible from a single buy/sell.\n",
    "\n",
    "def maxProfit(prices):\n",
    "    max_profit = 0\n",
    "    for i in range(len(prices)):\n",
    "        for j in range(i+1, len(prices)):\n",
    "            profit = prices[j] - prices[i]\n",
    "            max_profit = max(max_profit, profit)\n",
    "    return max_profit"
   ]
  },
  {
   "cell_type": "markdown",
   "id": "21e13e12-7018-4103-9ae1-10befef467bf",
   "metadata": {},
   "source": [
    "10. 3Sum\n",
    "\n",
    "def threeSum(nums):\n",
    "Defines the function threeSum that takes a list of integers, nums.\n",
    "\n",
    "python\n",
    "Copy\n",
    "Edit\n",
    "    nums.sort()\n",
    "Sorts the input list in non-decreasing order.\n",
    "\n",
    "Why? Sorting helps us:\n",
    "\n",
    "Use the two-pointer technique\n",
    "\n",
    "Avoid unnecessary duplicate checking (easier in sorted arrays)\n",
    "\n",
    "python\n",
    "Copy\n",
    "Edit\n",
    "    result = []\n",
    "Creates an empty list to store the triplets that sum to zero.\n",
    "\n",
    "python\n",
    "Copy\n",
    "Edit\n",
    "    for i in range(len(nums) - 2):\n",
    "Starts a loop from index 0 to len(nums) - 3.\n",
    "\n",
    "Why -2? Because we need at least two more numbers after i to form a triplet.\n",
    "\n",
    "python\n",
    "Copy\n",
    "Edit\n",
    "        left = i + 1\n",
    "        right = len(nums) - 1\n",
    "After choosing the first number nums[i], we set two pointers:\n",
    "\n",
    "left → just after i\n",
    "\n",
    "right → at the end of the array\n",
    "\n",
    "These will scan the subarray for pairs that complement nums[i].\n",
    "\n",
    "python\n",
    "Copy\n",
    "Edit\n",
    "        while left < right:\n",
    "Loop until the two pointers meet.\n",
    "\n",
    "Why? Once they meet, all combinations with nums[i] have been checked.\n",
    "\n",
    "python\n",
    "Copy\n",
    "Edit\n",
    "            s = nums[i] + nums[left] + nums[right]\n",
    "Calculates the sum of the current triplet.\n",
    "\n",
    "python\n",
    "Copy\n",
    "Edit\n",
    "            if s == 0:\n",
    "                result.append([nums[i], nums[left], nums[right]])\n",
    "                left += 1\n",
    "                right -= 1\n",
    "✅ If the sum is 0, we found a valid triplet.\n",
    "\n",
    "Add it to result.\n",
    "\n",
    "Then move both left and right:\n",
    "\n",
    "Why? To look for the next possible unique triplet with nums[i].\n",
    "\n",
    "python\n",
    "Copy\n",
    "Edit\n",
    "            elif s < 0:\n",
    "                left += 1\n",
    "❌ If the sum is too small, move left to a larger number.\n",
    "\n",
    "python\n",
    "Copy\n",
    "Edit\n",
    "            else:\n",
    "                right -= 1\n",
    "❌ If the sum is too large, move right to a smaller number.\n",
    "\n",
    "python\n",
    "Copy\n",
    "Edit\n",
    "    return result\n",
    "After checking all i, return the list of triplets that sum to zero."
   ]
  },
  {
   "cell_type": "code",
   "execution_count": null,
   "id": "def3c7d5-83f0-4b0f-8e77-d99051160053",
   "metadata": {},
   "outputs": [],
   "source": [
    "def threeSum(nums): #brute force\n",
    "    nums.sort()\n",
    "    result = set()\n",
    "\n",
    "    for i in range(len(nums)):\n",
    "        for j in range(i + 1, len(nums)):\n",
    "            for k in range(j + 1, len(nums)):\n",
    "                if nums[i] + nums[j] + nums[k] == 0:\n",
    "                    result.add((nums[i], nums[j], nums[k]))\n",
    "\n",
    "    return [list(triplet) for triplet in result]\n",
    "\n"
   ]
  },
  {
   "cell_type": "code",
   "execution_count": null,
   "id": "d0222ce9-f07c-494f-9349-3e73b29eaeec",
   "metadata": {},
   "outputs": [],
   "source": [
    "def threeSum(nums):\n",
    "    nums.sort()\n",
    "    result = []\n",
    "\n",
    "    for i in range(len(nums) - 2):\n",
    "        left = i + 1\n",
    "        right = len(nums) - 1\n",
    "\n",
    "        while left < right:\n",
    "            s = nums[i] + nums[left] + nums[right]\n",
    "\n",
    "            if s == 0:\n",
    "                result.append([nums[i], nums[left], nums[right]])\n",
    "                left += 1\n",
    "                right -= 1\n",
    "            elif s < 0:\n",
    "                left += 1\n",
    "            else:\n",
    "                right -= 1\n",
    "\n",
    "    return result"
   ]
  },
  {
   "cell_type": "markdown",
   "id": "737d017e-c8a6-405a-9c20-ac612be003fd",
   "metadata": {},
   "source": [
    " 11. longest mountain array"
   ]
  },
  {
   "cell_type": "code",
   "execution_count": null,
   "id": "979e1525-30cc-4375-a9c0-6de9c853a77e",
   "metadata": {},
   "outputs": [],
   "source": [
    "def longestMountain(arr):\n",
    "    n = len(arr)\n",
    "    max_len = 0\n",
    "    i = 1  # start from second element\n",
    "\n",
    "    while i < n - 1:\n",
    "        # Check if arr[i] is a peak\n",
    "        if arr[i - 1] < arr[i] > arr[i + 1]:\n",
    "            left = i - 1\n",
    "            right = i + 1\n",
    "\n",
    "            # Go left while strictly increasing\n",
    "            while left > 0 and arr[left - 1] < arr[left]:\n",
    "                left -= 1\n",
    "\n",
    "            # Go right while strictly decreasing\n",
    "            while right < n - 1 and arr[right] > arr[right + 1]:\n",
    "                right += 1\n",
    "\n",
    "            # Update max_len\n",
    "            max_len = max(max_len, right - left + 1)\n",
    "            i = right  # Skip to end of this mountain\n",
    "        else:\n",
    "            i += 1\n",
    "\n",
    "    return max_len"
   ]
  },
  {
   "cell_type": "markdown",
   "id": "6de19be0-cf6f-4cd1-a9d6-26268647ac86",
   "metadata": {},
   "source": [
    "11. sliding Window - contain nearby duplicates ii\n",
    "\n",
    "\n",
    "Use a sliding window of size k and a set to track seen numbers.\n",
    "\n",
    "As you iterate through the array:\n",
    "\n",
    "If the current number is already in the set → return True\n",
    "\n",
    "Add the number to the set\n",
    "\n",
    "If the size of the set exceeds k, remove the oldest element (i.e., at i - k)\n",
    "\n",
    "🧠 Time Complexity: O(n)\n",
    "🧠 Space Complexity: O(k)\n"
   ]
  },
  {
   "cell_type": "code",
   "execution_count": null,
   "id": "a288d303-22e3-4377-a79b-32059f8ea9ea",
   "metadata": {},
   "outputs": [],
   "source": []
  },
  {
   "cell_type": "code",
   "execution_count": null,
   "id": "7eb169ff-0629-4eb8-8e9c-7ba660ffdd2b",
   "metadata": {},
   "outputs": [],
   "source": [
    "def containsNearbyDuplicate(nums, k):\n",
    "    seen = set()\n",
    "    \n",
    "    for i in range(len(nums)):\n",
    "        if nums[i] in seen:\n",
    "            return True\n",
    "        seen.add(nums[i])\n",
    "        \n",
    "        # Keep the set size at most k\n",
    "        if len(seen) > k:\n",
    "            seen.remove(nums[i - k])\n",
    "    \n",
    "    return False\n"
   ]
  },
  {
   "cell_type": "markdown",
   "id": "77935a40-8cc2-4c22-8a79-13c2a5d88cf2",
   "metadata": {},
   "source": [
    "def containsNearbyDuplicate(nums, k):\n",
    "What: Defines a function named containsNearbyDuplicate with two parameters: a list of numbers nums and an integer k.\n",
    "\n",
    "Why: This matches the problem definition — we want to detect duplicates within a k-distance window in a list.\n",
    "\n",
    "seen = set()\n",
    "What: Initializes an empty set called seen.\n",
    "\n",
    "Why: A set is ideal here because:\n",
    "\n",
    "It provides O(1) average time complexity for checking if an item exists (in).\n",
    "\n",
    "It automatically avoids duplicates, which is perfect for tracking unique values in a window.\n",
    "\n",
    "Using a list or array here would lead to O(n) lookup time, making the overall algorithm inefficient (O(n²)).\n",
    "\n",
    "for i in range(len(nums)):\n",
    "What: Loops over the indices of the list nums using a standard for loop.\n",
    "\n",
    "Why: We need the index i for two reasons:\n",
    "\n",
    "To get the current value: nums[i].\n",
    "\n",
    "To calculate the window position (i - k) when shrinking the set.\n",
    "\n",
    "if nums[i] in seen:\n",
    "What: Checks if the current value has already been seen within the last k indices.\n",
    "\n",
    "Why: This is the core check — if it’s already in the seen set, and we’re within the k-distance window, we found a nearby duplicate.\n",
    "\n",
    "return True\n",
    "What: If a nearby duplicate is found, immediately return True.\n",
    "\n",
    "Why: No need to continue checking — we only need to know whether at least one valid pair exists.\n",
    "\n",
    "seen.add(nums[i])\n",
    "What: Adds the current number to the seen set.\n",
    "\n",
    "Why: After checking for duplicates, we must track the current number in case it becomes a duplicate in the next few steps.\n",
    "\n",
    "if len(seen) > k:\n",
    "What: Checks if the size of the seen set exceeds the allowed window size k.\n",
    "\n",
    "Why: To maintain a sliding window of size k, we must remove the oldest element that is now outside the range.\n",
    "\n",
    "seen.remove(nums[i - k])\n",
    "What: Removes the element at index i - k from the seen set.\n",
    "\n",
    "Why:\n",
    "\n",
    "This ensures we only keep elements from the last k indices.\n",
    "\n",
    "As i moves forward, i - k becomes the \"outdated\" index — we remove it to keep the window moving.\n",
    "\n",
    "Without this step, the window could grow larger than k, causing false positives.\n",
    "\n",
    "return False\n",
    "What: If the loop completes without finding a nearby duplicate, return False.\n",
    "\n",
    "Why: This is the final outcome — if no early True was returned, then no nearby duplicates exist."
   ]
  },
  {
   "cell_type": "code",
   "execution_count": null,
   "id": "3ffad443-2d66-4b4f-b781-9609fb746781",
   "metadata": {},
   "outputs": [],
   "source": [
    "def containsNearbyDuplicate(nums, k):\n",
    "    index_map = {}  # num -> last index seen\n",
    "\n",
    "    for i, num in enumerate(nums):\n",
    "        if num in index_map and i - index_map[num] <= k:\n",
    "            return True\n",
    "        index_map[num] = i  # update with latest index\n",
    "    \n",
    "    return False\n"
   ]
  },
  {
   "cell_type": "markdown",
   "id": "d41d89da-19cf-4764-9601-7a19c363f3a8",
   "metadata": {},
   "source": [
    "def containsNearbyDuplicate(nums, k):\n",
    "    index_map = {}  # num -> last index seen\n",
    "\n",
    "    for i, num in enumerate(nums):\n",
    "        if num in index_map and i - index_map[num] <= k:\n",
    "            return True\n",
    "        index_map[num] = i  # update with latest index\n",
    "    \n",
    "    return False\n"
   ]
  },
  {
   "cell_type": "code",
   "execution_count": null,
   "id": "2b2d7dfd-c789-4fcb-b9be-30411ca9ffba",
   "metadata": {},
   "outputs": [],
   "source": [
    "def containsNearbyDuplicate(nums, k):\n",
    "    n = len(nums)\n",
    "    \n",
    "    for i in range(n):\n",
    "        for j in range(i + 1, min(i + k + 1, n)):\n",
    "            if nums[i] == nums[j]:\n",
    "                return True\n",
    "    \n",
    "    return False\n"
   ]
  },
  {
   "cell_type": "markdown",
   "id": "ae1b6bbe-02fc-482e-b180-826e809fce8e",
   "metadata": {
    "tags": []
   },
   "source": [
    "12. Minimum pair difference\n",
    "\n",
    " Key Idea:\n",
    "If nums is sorted, then\n",
    "min(|nums[i] - nums[j]|) is minimized when i and j are adjacent in the sorted list.\n",
    "\n",
    "Input: nums = [8, 1, 5, 3]\n",
    "Sorted:        [1, 3, 5, 8]\n",
    "\n",
    "Check differences:\n",
    "|3 - 1| = 2  \n",
    "|5 - 3| = 2  \n",
    "|8 - 5| = 3  \n",
    "\n",
    "Output: 2 (minimum pair difference)\n",
    "\n"
   ]
  },
  {
   "cell_type": "code",
   "execution_count": null,
   "id": "71b2f26a-768d-44e4-8d98-41a859de980e",
   "metadata": {},
   "outputs": [],
   "source": [
    " def minimumDifference(nums):\n",
    "    nums.sort()\n",
    "    min_diff = float('inf')\n",
    "    for i in range(1, len(nums)):\n",
    "        diff = nums[i] - nums[i - 1]\n",
    "        min_diff = min(min_diff, diff)\n",
    "    return min_diff\n"
   ]
  },
  {
   "cell_type": "markdown",
   "id": "fac6919e-2216-4a0d-bf84-b1cf0c070ed3",
   "metadata": {},
   "source": [
    "def minimumDifference(nums):\n",
    "Defines a function named minimumDifference that takes one parameter, nums, which is expected to be a list of integers.\n",
    "\n",
    "This function will compute and return the minimum absolute difference between any two elements in nums.\n",
    "\n",
    "nums.sort()\n",
    "Sorts the list nums in ascending order.\n",
    "\n",
    "Sorting is crucial because the smallest difference will always be between adjacent numbers in a sorted list (not scattered numbers).\n",
    "\n",
    "min_diff = float('inf')\n",
    "Initializes min_diff to positive infinity.\n",
    "\n",
    "This acts as a starting point so that any real difference found later will be smaller and overwrite this value.\n",
    "\n",
    "Think of it as saying: \"We haven’t found any difference yet, so set it as extremely large.\"\n",
    "\n",
    "for i in range(1, len(nums)):\n",
    "Starts a loop from the second element (index 1) to the end of the list.\n",
    "\n",
    "We're going to compare each element with its previous one.\n",
    "\n",
    "diff = nums[i] - nums[i - 1]\n",
    "Calculates the difference between the current number and the previous one.\n",
    "\n",
    "Since the list is sorted, nums[i] - nums[i - 1] will always be non-negative.\n",
    "\n",
    "min_diff = min(min_diff, diff)\n",
    "Updates min_diff if the new diff is smaller than the current min_diff.\n",
    "\n",
    "This keeps track of the smallest difference seen so far.\n",
    "\n",
    "return min_diff\n",
    "After the loop finishes, return the smallest difference found.\n",
    "\n",
    "This is the final result: the minimum absolute difference between any two elements in the array.\n",
    "\n",
    "🔁 Example Execution:\n",
    "python\n",
    "Copy\n",
    "Edit\n",
    "nums = [4, 2, 1, 9]\n",
    "After sort: [1, 2, 4, 9]\n",
    "Differences: 2-1=1, 4-2=2, 9-4=5\n",
    "min_diff = min(1, 2, 5) = 1"
   ]
  },
  {
   "cell_type": "code",
   "execution_count": null,
   "id": "678fd1ef-9f4f-43bb-ba35-fb2344c68139",
   "metadata": {},
   "outputs": [],
   "source": [
    "def minimumDifferencePairs(nums):\n",
    "    # Step 1: Sort the array\n",
    "    nums.sort()\n",
    "\n",
    "    # Step 2: Find the minimum difference\n",
    "    min_diff = float('inf')\n",
    "    for i in range(1, len(nums)):\n",
    "        diff = nums[i] - nums[i - 1]\n",
    "        if diff < min_diff:\n",
    "            min_diff = diff\n",
    "\n",
    "    # Step 3: Collect all pairs with the minimum difference\n",
    "    result = []\n",
    "    for i in range(1, len(nums)):\n",
    "        if nums[i] - nums[i - 1] == min_diff:\n",
    "            result.append([nums[i - 1], nums[i]])\n",
    "\n",
    "    return result\n"
   ]
  },
  {
   "cell_type": "markdown",
   "id": "fcaee025-b47b-4aa1-9dd4-efb415475cf1",
   "metadata": {},
   "source": [
    "1.Sorts the array.\n",
    "\n",
    "2.Finds the smallest absolute difference between adjacent elements.\n",
    "\n",
    "3.Collects all pairs that have this smallest difference.\n",
    "\n",
    "4.Returns them as a list of [a, b] pairs."
   ]
  },
  {
   "cell_type": "code",
   "execution_count": null,
   "id": "f0581ea4-8abc-4689-89d1-6cc22d3881db",
   "metadata": {},
   "outputs": [],
   "source": [
    "13.Minimum Size Subarray Sum\n",
    "\n",
    "Goal:\n",
    "Find the minimal length of a contiguous subarray of which the sum is greater than or equal to target.\n",
    "If no such subarray exists, return 0.\n",
    "\n"
   ]
  },
  {
   "cell_type": "code",
   "execution_count": null,
   "id": "1d2fe22d-1359-4d11-9abd-ac09d01ed873",
   "metadata": {},
   "outputs": [],
   "source": [
    "def minSubArrayLen(target, nums):\n",
    "    n = len(nums)\n",
    "    left = 0\n",
    "    total = 0\n",
    "    min_length = float('inf')\n",
    "\n",
    "    for right in range(n):\n",
    "        total += nums[right]\n",
    "        \n",
    "        while total >= target:\n",
    "            min_length = min(min_length, right - left + 1)\n",
    "            total -= nums[left]\n",
    "            left += 1\n",
    "\n",
    "    return min_length if min_length != float('inf') else 0\n"
   ]
  },
  {
   "cell_type": "code",
   "execution_count": null,
   "id": "1f7ba41a-6222-4c25-a63b-314d81af5ac5",
   "metadata": {},
   "outputs": [],
   "source": [
    "14.Bit Manipulation: Single Number\n",
    "\n",
    "def hammingWeight(n: int) -> int:\n",
    "    count = 0\n",
    "    while n:\n",
    "        n &= n - 1  # Removes the lowest set bit\n",
    "        count += 1\n",
    "    return count\n"
   ]
  },
  {
   "cell_type": "code",
   "execution_count": null,
   "id": "18c4a71f-4cbb-4cea-91c6-b465785e423f",
   "metadata": {},
   "outputs": [],
   "source": [
    "def singleNumber(nums):\n",
    "    result = 0\n",
    "    for num in nums:\n",
    "        result ^= num  # XOR cancels duplicates\n",
    "    return result\n"
   ]
  },
  {
   "cell_type": "code",
   "execution_count": null,
   "id": "3ea0b9f1-5836-4a51-82d0-5de1b2012fa6",
   "metadata": {},
   "outputs": [],
   "source": [
    "15. Coin Change\n",
    "\n",
    "Given:\n",
    "\n",
    "An integer array coins representing different denominations.\n",
    "\n",
    "An integer amount representing a total amount of money.\n",
    "\n",
    "Goal:\n",
    "Return the minimum number of coins needed to make up the amount.\n",
    "If it's not possible, return -1.\n",
    "dynamic programming algorithm"
   ]
  },
  {
   "cell_type": "code",
   "execution_count": null,
   "id": "09318641-e682-4bde-92c6-ce99d2049e51",
   "metadata": {},
   "outputs": [],
   "source": [
    "def coinChange(coins, amount):\n",
    "    # Initialize DP array: amount+1 is used as \"infinity\" (impossible case)\n",
    "    dp = [amount + 1] * (amount + 1)\n",
    "    dp[0] = 0  # Base case: 0 coins needed for amount 0\n",
    "\n",
    "    for i in range(1, amount + 1):\n",
    "        for coin in coins:\n",
    "            if coin <= i:\n",
    "                dp[i] = min(dp[i], dp[i - coin] + 1)\n",
    "\n",
    "    return dp[amount] if dp[amount] != amount + 1 else -1\n"
   ]
  },
  {
   "cell_type": "code",
   "execution_count": null,
   "id": "645363f6-0850-4ce3-bc21-0e0441c51c7c",
   "metadata": {},
   "outputs": [],
   "source": [
    "def coinChange(coins, amount):\n",
    "    # Step 1: Create a memoization dictionary to store results for subproblems\n",
    "    memo = {}\n",
    "\n",
    "    # Step 2: Define a recursive function to compute the minimum coins for a given 'rem' amount\n",
    "    def dp(rem):\n",
    "        # Base Case 1: If the remaining amount is 0, we need 0 coins\n",
    "        if rem == 0:\n",
    "            return 0\n",
    "        \n",
    "        # Base Case 2: If the remaining amount is negative, return -1 (not possible)\n",
    "        if rem < 0:\n",
    "            return -1\n",
    "        \n",
    "        # Step 3: If we already solved this subproblem, return the result from memo\n",
    "        if rem in memo:\n",
    "            return memo[rem]\n",
    "        \n",
    "        # Step 4: Set initial value to a large number (infinity)\n",
    "        min_coins = float('inf')\n",
    "\n",
    "        # Step 5: Try every coin and take the minimum\n",
    "        for coin in coins:\n",
    "            res = dp(rem - coin)  # Recursive call\n",
    "            if res >= 0:  # If it's a valid result\n",
    "                min_coins = min(min_coins, res + 1)  # Count current coin\n",
    "\n",
    "        # Step 6: Store the result in the memo dictionary\n",
    "        memo[rem] = -1 if min_coins == float('inf') else min_coins\n",
    "\n",
    "        # Step 7: Return the result for this amount\n",
    "        return memo[rem]\n",
    "\n",
    "    # Step 8: Call the recursive function with the full amount\n",
    "    return dp(amount)\n"
   ]
  },
  {
   "cell_type": "markdown",
   "id": "6fd3c738-89a1-4e52-bf17-2d7aa52a8061",
   "metadata": {},
   "source": [
    "16. Climbing Stairs\n",
    "The \"Climbing Stairs\" algorithm is a classic Dynamic Programming (DP) problem that helps you learn how to optimize recursive solutions using memory. It's a great way to build core skills needed for coding interviews and real-world logic design in data engineering and software roles.\n",
    "\n",
    "🧩 Problem Statement (Classic Form):\n",
    "You are climbing a staircase. It takes n steps to reach the top.\n",
    "\n",
    "Each time, you can either climb 1 step or 2 steps.\n",
    "\n",
    "How many distinct ways can you climb to the top?\n",
    "\n",
    "For n = 3, the possible ways are:\n",
    "\n",
    "1 + 1 + 1\n",
    "\n",
    "1 + 2\n",
    "\n",
    "2 + 1\n",
    "\n",
    "So the output is: 3"
   ]
  },
  {
   "cell_type": "code",
   "execution_count": null,
   "id": "baa13309-349b-4ad7-a401-c361a758fc25",
   "metadata": {},
   "outputs": [],
   "source": [
    "def climb_stairs(n):\n",
    "    if n <= 2:\n",
    "        return n\n",
    "\n",
    "    one_step_before = 2  # Ways to get to step n-1\n",
    "    two_steps_before = 1  # Ways to get to step n-2\n",
    "\n",
    "    for _ in range(3, n + 1):\n",
    "        current = one_step_before + two_steps_before\n",
    "        two_steps_before = one_step_before\n",
    "        one_step_before = current\n",
    "\n",
    "    return one_step_before\n"
   ]
  },
  {
   "cell_type": "code",
   "execution_count": null,
   "id": "9427785c-c968-4e4f-9d31-4392240ded41",
   "metadata": {},
   "outputs": [],
   "source": [
    "def climb_stairs_recursive(n):\n",
    "    if n <= 2:\n",
    "        return n\n",
    "    return climb_stairs_recursive(n-1) + climb_stairs_recursive(n-2)\n"
   ]
  },
  {
   "cell_type": "code",
   "execution_count": null,
   "id": "68920f3a-860c-4ad8-9058-8d913b82d321",
   "metadata": {},
   "outputs": [],
   "source": []
  },
  {
   "cell_type": "code",
   "execution_count": null,
   "id": "da1c7738-4ead-4a26-9926-b3f97845159c",
   "metadata": {},
   "outputs": [],
   "source": [
    "17. Max subarray \n",
    "\n",
    "The Maximum Subarray Problem (also known as Kadane’s Algorithm) is a classic algorithm problem used to build your skills in dynamic programming, array manipulation, and real-world performance tuning.\n",
    "\n",
    "\n"
   ]
  },
  {
   "cell_type": "code",
   "execution_count": null,
   "id": "c78b5236-8cff-4a2c-b44f-f3e695e2976d",
   "metadata": {},
   "outputs": [],
   "source": [
    "def max_subarray(nums):\n",
    "    max_current = max_global = nums[0]\n",
    "\n",
    "    for num in nums[1:]:\n",
    "        max_current = max(num, max_current + num)\n",
    "        max_global = max(max_global, max_current)\n",
    "\n",
    "    return max_global\n"
   ]
  },
  {
   "cell_type": "code",
   "execution_count": null,
   "id": "64c96bb8-2218-48fb-9cae-70982ab7a36d",
   "metadata": {},
   "outputs": [],
   "source": [
    "18.Problem: Counting Bits\n",
    "Given an integer n, return an array ans where ans[i] is the number of 1s in the binary representation of i for every i in the range [0, n]."
   ]
  },
  {
   "cell_type": "code",
   "execution_count": null,
   "id": "ef2e24db-c0e2-488f-8893-e5df4e36f37e",
   "metadata": {},
   "outputs": [],
   "source": [
    "def count_bits(n):\n",
    "    dp = [0] * (n + 1)\n",
    "\n",
    "    for i in range(1, n + 1):\n",
    "        dp[i] = dp[i >> 1] + (i & 1)\n",
    "    \n",
    "    return dp\n"
   ]
  },
  {
   "cell_type": "code",
   "execution_count": null,
   "id": "4b68d3b3-b3d5-4b3c-ac02-950d72a34424",
   "metadata": {},
   "outputs": [],
   "source": [
    "19.Rnage Sum Query"
   ]
  },
  {
   "cell_type": "code",
   "execution_count": null,
   "id": "7b95018e-ced1-4cd9-88a8-336ad74f9680",
   "metadata": {},
   "outputs": [],
   "source": [
    "Given an integer array nums, implement a class that supports the following operation:\n",
    "\n",
    "sumRange(i, j) – return the sum of elements from index i to j (inclusive)."
   ]
  },
  {
   "cell_type": "code",
   "execution_count": null,
   "id": "5a5e1f00-af84-4359-99e9-39dd750d9bc6",
   "metadata": {},
   "outputs": [],
   "source": [
    "class NumArray:\n",
    "    def __init__(self, nums):\n",
    "        self.nums = nums\n",
    "\n",
    "    def sumRange(self, i, j):\n",
    "        return sum(self.nums[i:j+1])\n"
   ]
  },
  {
   "cell_type": "code",
   "execution_count": null,
   "id": "88db55ba-96e1-4280-b74c-ee7ff8c0b9c5",
   "metadata": {},
   "outputs": [],
   "source": [
    "class NumArray:\n",
    "    def __init__(self, nums):\n",
    "        self.prefix_sum = [0]\n",
    "\n",
    "        for num in nums:\n",
    "            self.prefix_sum.append(self.prefix_sum[-1] + num)\n",
    "\n",
    "    def sumRange(self, i, j):\n",
    "        return self.prefix_sum[j + 1] - self.prefix_sum[i]\n"
   ]
  },
  {
   "cell_type": "code",
   "execution_count": null,
   "id": "22006a56-81f5-4f01-9b6f-f389c4e48de8",
   "metadata": {},
   "outputs": [],
   "source": [
    "20. Backtracking e.g. letter permutation"
   ]
  },
  {
   "cell_type": "code",
   "execution_count": null,
   "id": "0037f9b3-0ae8-4e24-8d66-ef45b3b8ca46",
   "metadata": {},
   "outputs": [],
   "source": [
    "def letter_case_permutation(s):\n",
    "    result = []\n",
    "\n",
    "    def backtrack(index, path):\n",
    "        if index == len(s):\n",
    "            result.append(path)\n",
    "            return\n",
    "\n",
    "        if s[index].isalpha():\n",
    "            # Lowercase branch\n",
    "            backtrack(index + 1, path + s[index].lower())\n",
    "            # Uppercase branch\n",
    "            backtrack(index + 1, path + s[index].upper())\n",
    "        else:\n",
    "            # Just add digit\n",
    "            backtrack(index + 1, path + s[index])\n",
    "\n",
    "    backtrack(0, \"\")\n",
    "    return result\n"
   ]
  },
  {
   "cell_type": "code",
   "execution_count": null,
   "id": "357c8723-d40c-4a68-96b7-0491e1c19c85",
   "metadata": {},
   "outputs": [],
   "source": [
    "21.Excellent! The Subset Problem is a core algorithm used in combinatorics, recursion, and backtracking. Mastering it helps you handle problems like:\n",
    "\n",
    "Power sets\n",
    "\n",
    "Feature combinations\n",
    "\n",
    "Permissions systems\n",
    "\n",
    "Machine learning: feature selection"
   ]
  },
  {
   "cell_type": "code",
   "execution_count": null,
   "id": "98008dd9-ab83-40ea-9ed6-2f1c4b5eca4b",
   "metadata": {},
   "outputs": [],
   "source": [
    "def subsets(nums):\n",
    "    result = []\n",
    "\n",
    "    def backtrack(start, path):\n",
    "        result.append(path[:])  # Add a *copy* of path\n",
    "        for i in range(start, len(nums)):\n",
    "            path.append(nums[i])\n",
    "            backtrack(i + 1, path)\n",
    "            path.pop()  # Backtrack\n",
    "\n",
    "    backtrack(0, [])\n",
    "    return result\n"
   ]
  },
  {
   "cell_type": "code",
   "execution_count": null,
   "id": "30c1d0eb-eb3e-4919-ba02-317373dfec44",
   "metadata": {},
   "outputs": [],
   "source": [
    "22.combinations"
   ]
  },
  {
   "cell_type": "code",
   "execution_count": null,
   "id": "588d0ccc-29f7-4e07-bcd7-c308ca46297a",
   "metadata": {},
   "outputs": [],
   "source": [
    "def combine(n, k):\n",
    "    result = []\n",
    "\n",
    "    def backtrack(start, path):\n",
    "        if len(path) == k:\n",
    "            result.append(path[:])\n",
    "            return\n",
    "\n",
    "        for i in range(start, n + 1):\n",
    "            path.append(i)\n",
    "            backtrack(i + 1, path)\n",
    "            path.pop()\n",
    "\n",
    "    backtrack(1, [])\n",
    "    return result\n"
   ]
  },
  {
   "cell_type": "code",
   "execution_count": null,
   "id": "8a26618d-0bc6-4311-9b10-2dcb3c2ac8f8",
   "metadata": {},
   "outputs": [],
   "source": [
    "23.permutation\n",
    "\n",
    "Formal Definition:\n",
    "A permutation of a set is a rearrangement of its elements in every possible order, without repetition (unless duplicates exist)."
   ]
  },
  {
   "cell_type": "code",
   "execution_count": null,
   "id": "0fa5a25c-0a42-4c28-abfc-ef9e4c62cfa5",
   "metadata": {},
   "outputs": [],
   "source": [
    "def permute(nums):\n",
    "    result = []\n",
    "\n",
    "    def backtrack(path, used):\n",
    "        if len(path) == len(nums):\n",
    "            result.append(path[:])\n",
    "            return\n",
    "\n",
    "        for i in range(len(nums)):\n",
    "            if used[i]:\n",
    "                continue\n",
    "            used[i] = True\n",
    "            path.append(nums[i])\n",
    "            backtrack(path, used)\n",
    "            path.pop()\n",
    "            used[i] = False\n",
    "\n",
    "    backtrack([], [False] * len(nums))\n",
    "    return result\n"
   ]
  },
  {
   "cell_type": "code",
   "execution_count": null,
   "id": "c899349f-5ce6-43a1-a803-f258436c3afa",
   "metadata": {},
   "outputs": [],
   "source": [
    "24. A linked list is a linear data structure where elements (called nodes) are stored in a sequence, but each node points to the next one instead of using an array index.\n",
    "\n"
   ]
  },
  {
   "cell_type": "code",
   "execution_count": null,
   "id": "b857ccd8-7ae9-4616-a6ba-c011e1099f46",
   "metadata": {},
   "outputs": [],
   "source": [
    "class Node:\n",
    "    def __init__(self, value):\n",
    "        self.value = value\n",
    "        self.next = None\n",
    "\n",
    "class LinkedList:\n",
    "    def __init__(self):\n",
    "        self.head = None\n",
    "\n",
    "    def append(self, value):\n",
    "        new_node = Node(value)\n",
    "\n",
    "        if not self.head:\n",
    "            self.head = new_node\n",
    "            return\n",
    "\n",
    "        current = self.head\n",
    "        while current.next:\n",
    "            current = current.next\n",
    "        current.next = new_node\n",
    "\n",
    "    def display(self):\n",
    "        current = self.head\n",
    "        while current:\n",
    "            print(current.value, end=\" → \")\n",
    "            current = current.next\n",
    "        print(\"None\")\n"
   ]
  },
  {
   "cell_type": "code",
   "execution_count": null,
   "id": "69aa1bca-bf63-4693-a7f1-c1dc179e38d0",
   "metadata": {},
   "outputs": [],
   "source": [
    "25. Reverse a Singly Linked List\n",
    "Given the head of a singly linked list, reverse the list and return the new head."
   ]
  },
  {
   "cell_type": "code",
   "execution_count": null,
   "id": "83c99d6f-3ba7-476c-9d22-fc23fd584e41",
   "metadata": {},
   "outputs": [],
   "source": [
    "class Node:\n",
    "    def __init__(self, value):\n",
    "        self.value = value\n",
    "        self.next = None\n",
    "\n",
    "def reverse_linked_list(head):\n",
    "    prev = None\n",
    "    current = head\n",
    "\n",
    "    while current:\n",
    "        next_node = current.next   # Save next node\n",
    "        current.next = prev        # Reverse the pointer\n",
    "        prev = current             # Move prev forward\n",
    "        current = next_node        # Move current forward\n",
    "\n",
    "    return prev  # New head\n"
   ]
  },
  {
   "cell_type": "code",
   "execution_count": null,
   "id": "15d3c273-0ce1-4eb3-9cd6-500713b883dc",
   "metadata": {},
   "outputs": [],
   "source": [
    "26. remove linked list\n"
   ]
  },
  {
   "cell_type": "code",
   "execution_count": null,
   "id": "17f2fcf5-7e87-43a2-8fd6-b213670564ad",
   "metadata": {},
   "outputs": [],
   "source": [
    "class Node:\n",
    "    def __init__(self, value):\n",
    "        self.value = value\n",
    "        self.next = None\n",
    "\n",
    "def remove_node(head, val):\n",
    "    # Special case: remove head\n",
    "    if head and head.value == val:\n",
    "        return head.next\n",
    "\n",
    "    current = head\n",
    "    while current and current.next:\n",
    "        if current.next.value == val:\n",
    "            current.next = current.next.next  # Skip the node\n",
    "            break\n",
    "        current = current.next\n",
    "\n",
    "    return head"
   ]
  },
  {
   "cell_type": "code",
   "execution_count": null,
   "id": "da5bea99-7c95-4a0d-972b-de9819b29e2c",
   "metadata": {},
   "outputs": [],
   "source": [
    "27. "
   ]
  },
  {
   "cell_type": "code",
   "execution_count": null,
   "id": "d6e3f3ec-ff20-46ea-a2a6-5659d067e3d5",
   "metadata": {},
   "outputs": [],
   "source": [
    "28."
   ]
  },
  {
   "cell_type": "code",
   "execution_count": null,
   "id": "61251bee-f1b6-4e30-9922-8c3f058bedb0",
   "metadata": {},
   "outputs": [],
   "source": [
    "29."
   ]
  },
  {
   "cell_type": "code",
   "execution_count": null,
   "id": "0f20774e-d752-4666-8cb9-59cbd5f2a689",
   "metadata": {},
   "outputs": [],
   "source": [
    "30."
   ]
  },
  {
   "cell_type": "markdown",
   "id": "2ad8ef86-9055-4318-b80e-6aae4da8b474",
   "metadata": {},
   "source": [
    "Extra Notes below:"
   ]
  },
  {
   "cell_type": "code",
   "execution_count": 56,
   "id": "61dd5c8d-d429-4238-943e-0bb9dc061345",
   "metadata": {
    "tags": []
   },
   "outputs": [
    {
     "name": "stdout",
     "output_type": "stream",
     "text": [
      "500\n"
     ]
    }
   ],
   "source": [
    "mylist = [2, 4, 6, 8, 10, 12, 14, 16, 18, 20, 22, 24, 26, 28, 30, 32, 34, 36, 38, 40, 42, 44, 46, 48, 50, 52, 54, 56, 58, 60, 62, 64, 66, 68, 70, 72, 74, 76, 78, 80, 82, 84, 86, 88, 90, 92, 94, 96, 98, 100, 102, 104, 106, 108, 110, 112, 114, 116, 118, 120, 122, 124, 126, 128, 130, 132, 134, 136, 138, 140, 142, 144, 146, 148, 150, 152, 154, 156, 158, 160, 162, 164, 166, 168, 170, 172, 174, 176, 178, 180, 182, 184, 186, 188, 190, 192, 194, 196, 198, 200, 202, 204, 206, 208, 210, 212, 214, 216, 218, 220, 222, 224, 226, 228, 230, 232, 234, 236, 238, 240, 242, 244, 246, 248, 250, 252, 254, 256, 258, 260, 262, 264, 266, 268, 270, 272, 274, 276, 278, 280, 282, 284, 286, 288, 290, 292, 294, 296, 298, 300, 302, 304, 306, 308, 310, 312, 314, 316, 318, 320, 322, 324, 326, 328, 330, 332, 334, 336, 338, 340, 342, 344, 346, 348, 350, 352, 354, 356, 358, 360, 362, 364, 366, 368, 370, 372, 374, 376, 378, 380, 382, 384, 386, 388, 390, 392, 394, 396, 398, 400, 402, 404, 406, 408, 410, 412, 414, 416, 418, 420, 422, 424, 426, 428, 430, 432, 434, 436, 438, 440, 442, 444, 446, 448, 450, 452, 454, 456, 458, 460, 462, 464, 466, 468, 470, 472, 474, 476, 478, 480, 482, 484, 486, 488, 490, 492, 494, 496, 498, 500, 502, 504, 506, 508, 510, 512, 514, 516, 518, 520, 522, 524, 526, 528, 530, 532, 534, 536, 538, 540, 542, 544, 546, 548, 550, 552, 554, 556, 558, 560, 562, 564, 566, 568, 570, 572, 574, 576, 578, 580, 582, 584, 586, 588, 590, 592, 594, 596, 598, 600, 602, 604, 606, 608, 610, 612, 614, 616, 618, 620, 622, 624, 626, 628, 630, 632, 634, 636, 638, 640, 642, 644, 646, 648, 650, 652, 654, 656, 658, 660, 662, 664, 666, 668, 670, 672, 674, 676, 678, 680, 682, 684, 686, 688, 690, 692, 694, 696, 698, 700, 702, 704, 706, 708, 710, 712, 714, 716, 718, 720, 722, 724, 726, 728, 730, 732, 734, 736, 738, 740, 742, 744, 746, 748, 750, 752, 754, 756, 758, 760, 762, 764, 766, 768, 770, 772, 774, 776, 778, 780, 782, 784, 786, 788, 790, 792, 794, 796, 798, 800, 802, 804, 806, 808, 810, 812, 814, 816, 818, 820, 822, 824, 826, 828, 830, 832, 834, 836, 838, 840, 842, 844, 846, 848, 850, 852, 854, 856, 858, 860, 862, 864, 866, 868, 870, 872, 874, 876, 878, 880, 882, 884, 886, 888, 890, 892, 894, 896, 898, 900, 902, 904, 906, 908, 910, 912, 914, 916, 918, 920, 922, 924, 926, 928, 930, 932, 934, 936, 938, 940, 942, 944, 946, 948, 950, 952, 954, 956, 958, 960, 962, 964, 966, 968, 970, 972, 974, 976, 978, 980, 982, 984, 986, 988, 990, 992, 994, 996, 998, 1000]   \n",
    "\n",
    "count = 0\n",
    "for num in mylist:\n",
    "    if num % 2 == 0:\n",
    "        count += 1\n",
    "print(count)\n",
    "\n",
    "# ranges iterate over index not values \n",
    "#when added with for i in range(0, 1001 + 1) with a list"
   ]
  },
  {
   "cell_type": "code",
   "execution_count": 57,
   "id": "e7b5d6bb-47aa-4147-a53b-bbe169d7b63e",
   "metadata": {
    "tags": []
   },
   "outputs": [
    {
     "name": "stdout",
     "output_type": "stream",
     "text": [
      "500\n"
     ]
    }
   ],
   "source": [
    "count = 0\n",
    "for i in range(1,1001):\n",
    "    if i % 2 == 0:\n",
    "        count += 1\n",
    "print(count)        "
   ]
  },
  {
   "cell_type": "code",
   "execution_count": 1,
   "id": "95632b4a-ce13-44d5-b0af-ab5f931e97a7",
   "metadata": {},
   "outputs": [
    {
     "name": "stdout",
     "output_type": "stream",
     "text": [
      "15\n"
     ]
    }
   ],
   "source": [
    "my_list = [1, 2, 3, 4, 5]\n",
    "total = sum(my_list)\n",
    "print(total)\n",
    "# Also you can list comprehension total = sum(for num in mylist if num % 2 == 0) "
   ]
  },
  {
   "cell_type": "code",
   "execution_count": 77,
   "id": "59206a0d-d797-4c15-9d8e-26f67d50e815",
   "metadata": {
    "tags": []
   },
   "outputs": [
    {
     "name": "stdout",
     "output_type": "stream",
     "text": [
      "[2, 4, 6, 8, 10, 12, 14, 16, 18, 20, 22, 24, 26, 28, 30, 32, 34, 36, 38, 40, 42, 44, 46, 48, 50, 52, 54, 56, 58, 60, 62, 64, 66, 68, 70, 72, 74, 76, 78, 80, 82, 84, 86, 88, 90, 92, 94, 96, 98, 100, 102, 104, 106, 108, 110, 112, 114, 116, 118, 120, 122, 124, 126, 128, 130, 132, 134, 136, 138, 140, 142, 144, 146, 148, 150, 152, 154, 156, 158, 160, 162, 164, 166, 168, 170, 172, 174, 176, 178, 180, 182, 184, 186, 188, 190, 192, 194, 196, 198, 200, 202, 204, 206, 208, 210, 212, 214, 216, 218, 220, 222, 224, 226, 228, 230, 232, 234, 236, 238, 240, 242, 244, 246, 248, 250, 252, 254, 256, 258, 260, 262, 264, 266, 268, 270, 272, 274, 276, 278, 280, 282, 284, 286, 288, 290, 292, 294, 296, 298, 300, 302, 304, 306, 308, 310, 312, 314, 316, 318, 320, 322, 324, 326, 328, 330, 332, 334, 336, 338, 340, 342, 344, 346, 348, 350, 352, 354, 356, 358, 360, 362, 364, 366, 368, 370, 372, 374, 376, 378, 380, 382, 384, 386, 388, 390, 392, 394, 396, 398, 400, 402, 404, 406, 408, 410, 412, 414, 416, 418, 420, 422, 424, 426, 428, 430, 432, 434, 436, 438, 440, 442, 444, 446, 448, 450, 452, 454, 456, 458, 460, 462, 464, 466, 468, 470, 472, 474, 476, 478, 480, 482, 484, 486, 488, 490, 492, 494, 496, 498, 500, 502, 504, 506, 508, 510, 512, 514, 516, 518, 520, 522, 524, 526, 528, 530, 532, 534, 536, 538, 540, 542, 544, 546, 548, 550, 552, 554, 556, 558, 560, 562, 564, 566, 568, 570, 572, 574, 576, 578, 580, 582, 584, 586, 588, 590, 592, 594, 596, 598, 600, 602, 604, 606, 608, 610, 612, 614, 616, 618, 620, 622, 624, 626, 628, 630, 632, 634, 636, 638, 640, 642, 644, 646, 648, 650, 652, 654, 656, 658, 660, 662, 664, 666, 668, 670, 672, 674, 676, 678, 680, 682, 684, 686, 688, 690, 692, 694, 696, 698, 700, 702, 704, 706, 708, 710, 712, 714, 716, 718, 720, 722, 724, 726, 728, 730, 732, 734, 736, 738, 740, 742, 744, 746, 748, 750, 752, 754, 756, 758, 760, 762, 764, 766, 768, 770, 772, 774, 776, 778, 780, 782, 784, 786, 788, 790, 792, 794, 796, 798, 800, 802, 804, 806, 808, 810, 812, 814, 816, 818, 820, 822, 824, 826, 828, 830, 832, 834, 836, 838, 840, 842, 844, 846, 848, 850, 852, 854, 856, 858, 860, 862, 864, 866, 868, 870, 872, 874, 876, 878, 880, 882, 884, 886, 888, 890, 892, 894, 896, 898, 900, 902, 904, 906, 908, 910, 912, 914, 916, 918, 920, 922, 924, 926, 928, 930, 932, 934, 936, 938, 940, 942, 944, 946, 948, 950, 952, 954, 956, 958, 960, 962, 964, 966, 968, 970, 972, 974, 976, 978, 980, 982, 984, 986, 988, 990, 992, 994, 996, 998, 1000]\n",
      " This the total value of even numbers: 250500\n"
     ]
    }
   ],
   "source": [
    "num = [] # code must operate in order\n",
    "\n",
    "for i in range(1, 1001): \n",
    "    \n",
    "    if i % 2 == 0:\n",
    "        num.append(i)\n",
    "        \n",
    "total = sum(num)\n",
    "print(num)        \n",
    "print( f' This the total value of even numbers: {total}')\n"
   ]
  },
  {
   "cell_type": "markdown",
   "id": "03872c1e-9a9a-4056-8b87-f2c65abfdbb1",
   "metadata": {},
   "source": [
    "5. enumnerating v, i the function will return the index and value stored\n",
    "1. What is this code doing?\n",
    "- there is  a list called students containing four items. One of them is an empty string (''), which might mean the student’s name was missing or not entered. The loop is checking each student's name.\n",
    "\n",
    "- If a student’s name is an empty string, it prints a message saying where (at which index) that empty name was found.\n",
    "\n",
    "2. What is i in this context?\n",
    "- i represents the index (or position) of the item in the list.\n",
    "\n",
    "- Lists in Python are zero-indexed, so:\n",
    "\n",
    "'Tom' is at index 0\n",
    "\n",
    "'Sarah' is at index 1\n",
    "\n",
    "'' is at index 2\n",
    "\n",
    "'Jenkins' is at index 3\n",
    "\n"
   ]
  },
  {
   "cell_type": "code",
   "execution_count": 11,
   "id": "925a8cf3-63d2-42bb-b746-b26aa3e5654a",
   "metadata": {
    "tags": []
   },
   "outputs": [
    {
     "name": "stdout",
     "output_type": "stream",
     "text": [
      "2\n"
     ]
    }
   ],
   "source": [
    "# 1 way with enumerate()\n",
    "students = ['Tom', 'Sarah', '','Jenkins']\n",
    "\n",
    "for i, student in enumerate(students):\n",
    "    if student == '':\n",
    "        print(i)"
   ]
  },
  {
   "cell_type": "code",
   "execution_count": 20,
   "id": "37a9d76c-d09f-480b-91be-d31ab1ce9585",
   "metadata": {
    "tags": []
   },
   "outputs": [
    {
     "name": "stdout",
     "output_type": "stream",
     "text": [
      "3\n",
      "3\n",
      "3\n",
      "3\n"
     ]
    }
   ],
   "source": [
    "# 2 way with range(len(x))\n",
    "students = ['Tom', 'Sarah', 'Vance','']\n",
    "for student in range(len(students)):\n",
    "    if students[i] == '':\n",
    "        print(i)"
   ]
  },
  {
   "cell_type": "code",
   "execution_count": 22,
   "id": "fc215e1d-adcf-45c2-a004-0807ac932fab",
   "metadata": {
    "tags": []
   },
   "outputs": [
    {
     "name": "stdout",
     "output_type": "stream",
     "text": [
      "1\n"
     ]
    }
   ],
   "source": [
    "# 3 way index.()\n",
    "students = ['Tom', '','Sarah','Johnson']\n",
    "index = students.index('')\n",
    "print(index)"
   ]
  },
  {
   "cell_type": "code",
   "execution_count": 23,
   "id": "957d59c6-7343-435a-97d0-4f2aa628aa9a",
   "metadata": {
    "tags": []
   },
   "outputs": [
    {
     "name": "stdout",
     "output_type": "stream",
     "text": [
      "[3]\n"
     ]
    }
   ],
   "source": [
    "students = ['Tom', 'Sarah', 'Vance','']\n",
    "empty_indexes = [ i for i, s in enumerate(students) if s == '']\n",
    "print(empty_indexes)"
   ]
  },
  {
   "cell_type": "code",
   "execution_count": null,
   "id": "1d5e28ee-fb16-49ba-8a58-3111537b723c",
   "metadata": {},
   "outputs": [],
   "source": []
  }
 ],
 "metadata": {
  "kernelspec": {
   "display_name": "Python 3",
   "language": "python",
   "name": "python3"
  },
  "language_info": {
   "codemirror_mode": {
    "name": "ipython",
    "version": 3
   },
   "file_extension": ".py",
   "mimetype": "text/x-python",
   "name": "python",
   "nbconvert_exporter": "python",
   "pygments_lexer": "ipython3",
   "version": "3.9.6"
  }
 },
 "nbformat": 4,
 "nbformat_minor": 5
}
